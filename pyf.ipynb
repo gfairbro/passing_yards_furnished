{
 "cells": [
  {
   "cell_type": "markdown",
   "id": "bbc6b1ed-8c1b-465a-a23c-9f88f5b60236",
   "metadata": {},
   "source": [
    "<H1>Passing Yards Furnished\n",
    "<H2> Author: Gabriel Fairbrother"
   ]
  },
  {
   "cell_type": "markdown",
   "id": "1382106f-0801-4be2-8c3e-e5ef72b3851e",
   "metadata": {},
   "source": [
    "I am proposing a simple to understand metric where we credit blocking players for a percentage of the earned yardage in a play (or any larger slice of time desired) based on how long they hold their blocks. Using the current data it was simplist to use the PFF blocking assignments, and they bear out fairly well. This could be adapted to be more particular. I believe the metric could also be adapted to punish missed blocks or give more credit to certain kinds of blocks (like chip blocks or pancake blocks).\n",
    "\n",
    "I think that as you aggregate Passing Yards Furnished out it will start to identify the most standout offensive linemen (and indeed blocking Tight Ends or blocking receivers, an under-identified quality of good players at these positions)."
   ]
  },
  {
   "cell_type": "code",
   "execution_count": 242,
   "id": "bb38af29-c959-4ba8-b77c-e7dd86f5a0d5",
   "metadata": {},
   "outputs": [],
   "source": [
    "import pandas as pd\n",
    "import numpy as np\n",
    "import os\n",
    "import matplotlib\n",
    "import seaborn as sns\n",
    "# import seaborn.objects as so\n",
    "\n",
    "from  scipy.spatial.distance import euclidean\n",
    "import warnings\n",
    "\n",
    "warnings.simplefilter(action='ignore', category=pd.errors.PerformanceWarning)\n",
    "\n",
    "path = 'data/'\n",
    "max_block_distance = 1.5 # This was an arbitrary choice for how close a blocker is to their assignment based on my estimation and can be edited\n",
    "\n",
    "plays = pd.read_csv(path + 'plays.csv')\n",
    "pff = pd.read_csv(path + 'pffScoutingData.csv')\n",
    "players = pd.read_csv(path + 'players.csv')"
   ]
  },
  {
   "cell_type": "code",
   "execution_count": 215,
   "id": "b690fe26-8791-43da-824f-d9a674e77d38",
   "metadata": {},
   "outputs": [],
   "source": [
    "\n",
    "\n",
    "# Filter completed pass plays\n",
    "completed_pass_plays = plays.loc[plays['passResult']=='C']\n",
    "\n",
    "# Dropping all negative penalty plays for simplicity\n",
    "completed_pass_plays = completed_pass_plays.drop(completed_pass_plays.index[completed_pass_plays['penaltyYards'] < 0])\n",
    "\n",
    "# Drop extra columns and prep index for join\n",
    "completed_pass_plays = completed_pass_plays[['gameId', 'playId', 'playResult']]\n",
    "completed_pass_plays.set_index(['gameId', 'playId'], inplace=True)\n"
   ]
  },
  {
   "cell_type": "code",
   "execution_count": 216,
   "id": "97cbce97-4bae-4a0f-a800-f6cf31645217",
   "metadata": {},
   "outputs": [],
   "source": [
    "#Filter Pass Blockers and create frame of pass blockers on each completed play\n",
    "pff_blockers = pff.loc[pff['pff_role']=='Pass Block']\n",
    "pff_blockers.set_index(['gameId', 'playId'], inplace=True)\n",
    "\n",
    "completed_pass_blockers = completed_pass_plays.join(pff_blockers)\n",
    "completed_pass_blockers.reset_index( inplace=True)\n",
    "completed_pass_blockers.set_index(['gameId', 'playId', 'nflId'], inplace=True, append=False)"
   ]
  },
  {
   "cell_type": "code",
   "execution_count": 217,
   "id": "9e5f80b4-e9d4-4511-957c-f3624a620fb5",
   "metadata": {},
   "outputs": [],
   "source": [
    "# Process tracking data csv\n",
    "processed_tracking = pd.DataFrame()\n",
    "for filename in os.listdir(path):\n",
    "    if filename.startswith('week'):\n",
    "        \n",
    "        tracking_data = pd.read_csv(path + filename)\n",
    "        processed_tracking = pd.concat([processed_tracking, tracking_data])\n",
    "\n",
    "#Set multilevel index\n",
    "processed_tracking.set_index(['gameId', 'playId', 'nflId'], inplace=True, append=False)"
   ]
  },
  {
   "cell_type": "code",
   "execution_count": 218,
   "id": "7db31af6-32e4-4516-8ce3-cf5c731c8643",
   "metadata": {},
   "outputs": [],
   "source": [
    "# Create pass blocker tracking table\n",
    "pass_completed_tracking = completed_pass_blockers.join(processed_tracking, how='inner')\n",
    "\n"
   ]
  },
  {
   "cell_type": "code",
   "execution_count": 219,
   "id": "cffe696f-dd09-4275-ae22-bc20249e75cc",
   "metadata": {},
   "outputs": [],
   "source": [
    "#Capture snap frame for each play\n",
    "frame_snap = pass_completed_tracking.reset_index()\n",
    "frame_snap = frame_snap.loc[frame_snap['event'] == 'ball_snap'][['gameId','playId','frameId']].drop_duplicates()\n",
    "frame_snap = frame_snap.rename(columns= {'frameId':'snap'})\n",
    "\n",
    "# Capture pass frame for each play\n",
    "frame_pass = pass_completed_tracking.reset_index()\n",
    "frame_pass = frame_pass.loc[frame_pass['event'] == 'pass_forward'][['gameId','playId','frameId']].drop_duplicates()\n",
    "frame_pass = frame_pass.rename(columns= {'frameId':'pass'})\n",
    "\n",
    "# Create frame lookup table\n",
    "for table in [frame_snap, frame_pass]:\n",
    "    table.set_index(['gameId', 'playId'], inplace=True)\n",
    "\n",
    "frame_window = frame_snap.join(frame_pass, on=['gameId', 'playId'], how='inner')\n"
   ]
  },
  {
   "cell_type": "code",
   "execution_count": 220,
   "id": "183503da-7cd0-464e-bbca-689c360794ac",
   "metadata": {},
   "outputs": [],
   "source": [
    "# Create a list of players blocking and blocked on each play\n",
    "blocking_list = []\n",
    "for game, blocker in pass_completed_tracking.groupby(level=[0, 1, 2]):\n",
    "    blockeridx = list(blocker.index[0])\n",
    "    blockeridx.append(blocker.pff_nflIdBlockedPlayer.unique()[0])\n",
    "    blocking_list.append(blockeridx)\n",
    "  "
   ]
  },
  {
   "cell_type": "code",
   "execution_count": 221,
   "id": "eb597a5f-2619-4f33-b1b1-cda250c14c2b",
   "metadata": {},
   "outputs": [],
   "source": [
    "# Calculate the distance between blocker and blocked in every frame, then sum all frames within 'max blocking distance' defined in cell 1\n",
    "\n",
    "score_keeping = {}\n",
    "for block in blocking_list:\n",
    "    if not (np.isnan(block).any()):\n",
    "        # Create entries if absent\n",
    "        if not block[0] in score_keeping:\n",
    "            score_keeping[block[0]] = {}\n",
    "        if not block[1] in score_keeping[block[0]]:\n",
    "            score_keeping[block[0]][block[1]] = {}\n",
    "       \n",
    "        try: \n",
    "\n",
    "            snap = frame_window.loc[block[0], block[1]]['snap'].item()\n",
    "            fwd_pass = frame_window.loc[block[0], block[1]]['pass'].item()\n",
    "\n",
    "            blocker_data = processed_tracking.loc[block[0], block[1], block[2]].query('@snap < frameId < @fwd_pass')[['x', 'y']]\n",
    "            blocked_data = processed_tracking.loc[block[0], block[1], block[3]].query('@snap < frameId < @fwd_pass')[['x', 'y']]\n",
    "            blocker_data.apply(pd.to_numeric)\n",
    "            blocked_data.apply(pd.to_numeric)\n",
    "\n",
    "            distance = []\n",
    "            for i in range(fwd_pass-snap-1):\n",
    "                \n",
    "                distance.append(euclidean(blocker_data.iloc[i], blocked_data.iloc[i])) # I originally used math.dist() here which was faster but its not available on kaggle\n",
    "\n",
    "            result = sum(i < max_block_distance for i in distance)\n",
    "            score_keeping[block[0]][block[1]][block[2]] = result\n",
    "\n",
    "        # There are some malformed entries due to anomalies in the data that could be scrubbed in a proper pipeline but are easier to skip here\n",
    "        except KeyError: \n",
    "            continue\n",
    "        except ValueError:\n",
    "            continue\n"
   ]
  },
  {
   "cell_type": "code",
   "execution_count": 222,
   "id": "d2fbb157-3067-4077-8702-b6d0faf70a9b",
   "metadata": {},
   "outputs": [],
   "source": [
    "# Calculate the percentage of the total \"block held time\" for each blocker. this total is the aggregate time of all blocks held during the play from the snap to the forward pass\n",
    "for game, plays in score_keeping.items():\n",
    "    for play, blockers in plays.items():\n",
    "        total = 0\n",
    "        for blocker, score in blockers.items():\n",
    "            total += score\n",
    "        blockers['block_total'] = total\n",
    "        for blocker, score in blockers.items():\n",
    "            if blocker == 'block_total':\n",
    "                continue\n",
    "            if total == 0:\n",
    "                blockers[blocker] = 0\n",
    "            else: \n",
    "                blockers[blocker] = score/total"
   ]
  },
  {
   "cell_type": "code",
   "execution_count": 223,
   "id": "3dcf9383-80b9-48f7-82b1-e45ba3e326d8",
   "metadata": {},
   "outputs": [],
   "source": [
    "# Calculate the Passing Yards Furnished per play\n",
    "for game, plays in score_keeping.items():\n",
    "    for play, blockers in plays.items():\n",
    "        yards = completed_pass_plays.loc[game, play].item()\n",
    "        \n",
    "        for blocker, score in blockers.items():\n",
    "            if blocker == 'block_total':\n",
    "                continue\n",
    "            blockers[blocker] = blockers[blocker] * yards\n",
    "            "
   ]
  },
  {
   "cell_type": "code",
   "execution_count": 224,
   "id": "abc29f91-64d6-44e7-92c8-3999119a5c89",
   "metadata": {
    "tags": []
   },
   "outputs": [],
   "source": [
    "# Lets simplify the dictionary by game per player\n",
    "passing_yards_furnished = {}\n",
    "for game, plays in score_keeping.items():\n",
    "    passing_yards_furnished[game] = {}\n",
    "    for play, blockers in plays.items():\n",
    "        for blocker, score in blockers.items():\n",
    "            if blocker == 'block_total':\n",
    "                continue\n",
    "            if not blocker in passing_yards_furnished[game]:\n",
    "                passing_yards_furnished[game][blocker] = 0\n",
    "            passing_yards_furnished[game][blocker] += score\n"
   ]
  },
  {
   "cell_type": "code",
   "execution_count": 225,
   "id": "c43bca10-bf49-4a55-9478-3030972a1304",
   "metadata": {},
   "outputs": [],
   "source": [
    "# Here is the metric per player for a chosen game. Note that it is both teams\n",
    "target_game = 2021090900\n",
    "disp_players = players[['nflId', 'officialPosition', 'displayName']]\n",
    "disp_players.set_index('nflId', inplace=True, append=False)\n",
    "display_table = disp_players.join(pd.DataFrame.from_dict(passing_yards_furnished[target_game], orient='index', columns=['Passing_Yards_Furnished']), how = 'inner')\n"
   ]
  },
  {
   "cell_type": "code",
   "execution_count": 226,
   "id": "b98d4cab-1727-467f-a432-5ea802c87971",
   "metadata": {},
   "outputs": [
    {
     "data": {
      "text/html": [
       "<div>\n",
       "<style scoped>\n",
       "    .dataframe tbody tr th:only-of-type {\n",
       "        vertical-align: middle;\n",
       "    }\n",
       "\n",
       "    .dataframe tbody tr th {\n",
       "        vertical-align: top;\n",
       "    }\n",
       "\n",
       "    .dataframe thead th {\n",
       "        text-align: right;\n",
       "    }\n",
       "</style>\n",
       "<table border=\"1\" class=\"dataframe\">\n",
       "  <thead>\n",
       "    <tr style=\"text-align: right;\">\n",
       "      <th></th>\n",
       "      <th>officialPosition</th>\n",
       "      <th>displayName</th>\n",
       "      <th>Passing_Yards_Furnished</th>\n",
       "    </tr>\n",
       "  </thead>\n",
       "  <tbody>\n",
       "    <tr>\n",
       "      <th>42404</th>\n",
       "      <td>G</td>\n",
       "      <td>Ali Marpet</td>\n",
       "      <td>92.986370</td>\n",
       "    </tr>\n",
       "    <tr>\n",
       "      <th>46163</th>\n",
       "      <td>G</td>\n",
       "      <td>Alex Cappa</td>\n",
       "      <td>92.785468</td>\n",
       "    </tr>\n",
       "    <tr>\n",
       "      <th>46119</th>\n",
       "      <td>G</td>\n",
       "      <td>Connor Williams</td>\n",
       "      <td>68.559486</td>\n",
       "    </tr>\n",
       "    <tr>\n",
       "      <th>47873</th>\n",
       "      <td>G</td>\n",
       "      <td>Connor McGovern</td>\n",
       "      <td>62.405246</td>\n",
       "    </tr>\n",
       "    <tr>\n",
       "      <th>52421</th>\n",
       "      <td>T</td>\n",
       "      <td>Tristan Wirfs</td>\n",
       "      <td>62.170969</td>\n",
       "    </tr>\n",
       "    <tr>\n",
       "      <th>42654</th>\n",
       "      <td>T</td>\n",
       "      <td>La'el Collins</td>\n",
       "      <td>59.060823</td>\n",
       "    </tr>\n",
       "    <tr>\n",
       "      <th>52554</th>\n",
       "      <td>C</td>\n",
       "      <td>Tyler Biadasz</td>\n",
       "      <td>57.391133</td>\n",
       "    </tr>\n",
       "    <tr>\n",
       "      <th>42377</th>\n",
       "      <td>T</td>\n",
       "      <td>Donovan Smith</td>\n",
       "      <td>52.082893</td>\n",
       "    </tr>\n",
       "    <tr>\n",
       "      <th>37082</th>\n",
       "      <td>T</td>\n",
       "      <td>Tyron Smith</td>\n",
       "      <td>45.768314</td>\n",
       "    </tr>\n",
       "    <tr>\n",
       "      <th>40151</th>\n",
       "      <td>C</td>\n",
       "      <td>Ryan Jensen</td>\n",
       "      <td>38.940706</td>\n",
       "    </tr>\n",
       "    <tr>\n",
       "      <th>43293</th>\n",
       "      <td>RB</td>\n",
       "      <td>Ezekiel Elliott</td>\n",
       "      <td>8.121597</td>\n",
       "    </tr>\n",
       "    <tr>\n",
       "      <th>35481</th>\n",
       "      <td>TE</td>\n",
       "      <td>Rob Gronkowski</td>\n",
       "      <td>5.413224</td>\n",
       "    </tr>\n",
       "    <tr>\n",
       "      <th>46206</th>\n",
       "      <td>TE</td>\n",
       "      <td>Dalton Schultz</td>\n",
       "      <td>4.307037</td>\n",
       "    </tr>\n",
       "    <tr>\n",
       "      <th>44831</th>\n",
       "      <td>TE</td>\n",
       "      <td>O.J. Howard</td>\n",
       "      <td>3.620370</td>\n",
       "    </tr>\n",
       "    <tr>\n",
       "      <th>47911</th>\n",
       "      <td>RB</td>\n",
       "      <td>Tony Pollard</td>\n",
       "      <td>2.386364</td>\n",
       "    </tr>\n",
       "    <tr>\n",
       "      <th>44816</th>\n",
       "      <td>RB</td>\n",
       "      <td>Leonard Fournette</td>\n",
       "      <td>0.000000</td>\n",
       "    </tr>\n",
       "  </tbody>\n",
       "</table>\n",
       "</div>"
      ],
      "text/plain": [
       "      officialPosition        displayName  Passing_Yards_Furnished\n",
       "42404                G         Ali Marpet                92.986370\n",
       "46163                G         Alex Cappa                92.785468\n",
       "46119                G    Connor Williams                68.559486\n",
       "47873                G    Connor McGovern                62.405246\n",
       "52421                T      Tristan Wirfs                62.170969\n",
       "42654                T      La'el Collins                59.060823\n",
       "52554                C      Tyler Biadasz                57.391133\n",
       "42377                T      Donovan Smith                52.082893\n",
       "37082                T        Tyron Smith                45.768314\n",
       "40151                C        Ryan Jensen                38.940706\n",
       "43293               RB    Ezekiel Elliott                 8.121597\n",
       "35481               TE     Rob Gronkowski                 5.413224\n",
       "46206               TE     Dalton Schultz                 4.307037\n",
       "44831               TE        O.J. Howard                 3.620370\n",
       "47911               RB       Tony Pollard                 2.386364\n",
       "44816               RB  Leonard Fournette                 0.000000"
      ]
     },
     "execution_count": 226,
     "metadata": {},
     "output_type": "execute_result"
    }
   ],
   "source": [
    "display_table.sort_values('Passing_Yards_Furnished', ascending=False)"
   ]
  },
  {
   "cell_type": "code",
   "execution_count": 227,
   "id": "daac0683-b0ee-453b-b7a2-bbf8138633d7",
   "metadata": {},
   "outputs": [],
   "source": [
    "pyf_total_dataset = {}\n",
    "for game, plays in score_keeping.items():\n",
    "    for play, blockers in plays.items():\n",
    "        for blocker, score in blockers.items():\n",
    "            if blocker == 'block_total':\n",
    "                continue\n",
    "            if not blocker in pyf_total_dataset:\n",
    "                pyf_total_dataset[blocker] = 0\n",
    "            pyf_total_dataset[blocker] += score\n",
    "\n",
    "plot_table = disp_players.join(pd.DataFrame.from_dict(pyf_total_dataset, orient='index', columns = ['Passing_Yards_Furnished']), how='inner')"
   ]
  },
  {
   "cell_type": "markdown",
   "id": "d0f9b618-6749-4908-bacd-81644ae18ade",
   "metadata": {},
   "source": [
    "Here is a chart of the best 20 pass blockers in the league through the first 8 weeks:"
   ]
  },
  {
   "cell_type": "code",
   "execution_count": 252,
   "id": "87740c0f-e121-436f-9102-8f07a712355a",
   "metadata": {},
   "outputs": [
    {
     "data": {
      "image/png": "[encoded data removed]",
      "text/plain": [
       "<Figure size 640x480 with 1 Axes>"
      ]
     },
     "metadata": {},
     "output_type": "display_data"
    }
   ],
   "source": [
    "ax = sns.barplot(data=plot_table.nlargest(20, 'Passing_Yards_Furnished'),\n",
    "            y='displayName',\n",
    "            x='Passing_Yards_Furnished',\n",
    "            hue='officialPosition',\n",
    "           dodge = False)\n",
    "sns.move_legend(ax, title='Position', loc='best')\n",
    "_ = ax.set(xlabel='Passing Yards Furnished', ylabel = 'Player Name', title = 'Top 20 Pass Blockers by Position (Through week 8, 2021)')\n"
   ]
  },
  {
   "cell_type": "code",
   "execution_count": null,
   "id": "60ba6abd-1a26-446c-8efb-18f74026c6e8",
   "metadata": {},
   "outputs": [],
   "source": [
    "# Seaborn Objects not available in Kaggle\n",
    "#p = so.Plot(plot_table.nlargest(20, 'Passing_Yards_Furnished'), y='displayName', x='Passing_Yards_Furnished', color='officialPosition').add(so.Bars())\n",
    "\n",
    "#p.label(x='Passing Yards Furnished', y = 'Player Name', color = 'Position', title = 'Top 20 Pass Blockers by Position (Through week 8, 2021)')"
   ]
  },
  {
   "cell_type": "code",
   "execution_count": null,
   "id": "7168f343-9e07-4fce-b346-b5413d457975",
   "metadata": {},
   "outputs": [],
   "source": []
  }
 ],
 "metadata": {
  "kernelspec": {
   "display_name": "pyf",
   "language": "python",
   "name": "pyf"
  },
  "language_info": {
   "codemirror_mode": {
    "name": "ipython",
    "version": 3
   },
   "file_extension": ".py",
   "mimetype": "text/x-python",
   "name": "python",
   "nbconvert_exporter": "python",
   "pygments_lexer": "ipython3",
   "version": "3.11.0"
  }
 },
 "nbformat": 4,
 "nbformat_minor": 5
}
